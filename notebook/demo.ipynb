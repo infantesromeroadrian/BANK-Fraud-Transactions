{
 "cells": [
  {
   "cell_type": "code",
   "execution_count": 1,
   "id": "initial_id",
   "metadata": {
    "collapsed": true,
    "ExecuteTime": {
     "end_time": "2024-01-20T23:45:32.640946Z",
     "start_time": "2024-01-20T23:45:32.448853Z"
    }
   },
   "outputs": [],
   "source": [
    "import logging\n",
    "from pyspark.sql import SparkSession\n",
    "\n",
    "# Configuración del Logger\n",
    "logging.basicConfig(level=logging.INFO)\n",
    "\n",
    "class DataIngestor:\n",
    "    def __init__(self, file_path):\n",
    "        self.file_path = file_path\n",
    "        self.logger = logging.getLogger(self.__class__.__name__)\n",
    "        self.spark = self.start_spark_session()\n",
    "\n",
    "    def start_spark_session(self):\n",
    "        \"\"\"Iniciar una sesión Spark.\"\"\"\n",
    "        self.logger.info(\"Iniciando sesión Spark\")\n",
    "        return SparkSession.builder.appName(\"IoT Intrusion Detection\").getOrCreate()\n",
    "\n",
    "    def read_data(self):\n",
    "        \"\"\"Leer datos desde un archivo CSV.\"\"\"\n",
    "        self.logger.info(f\"Leyendo datos desde {self.file_path}\")\n",
    "        df = self.spark.read.csv(self.file_path, header=True, inferSchema=True)\n",
    "        self.logger.info(\"Lectura del archivo completada\")\n",
    "        return df"
   ]
  },
  {
   "cell_type": "code",
   "outputs": [
    {
     "name": "stderr",
     "output_type": "stream",
     "text": [
      "INFO:DataIngestor:Iniciando sesión Spark\n",
      "24/01/21 00:45:37 WARN Utils: Your hostname, Adrians-MacBook-Pro.local resolves to a loopback address: 127.0.0.1; using 192.168.1.39 instead (on interface en0)\n",
      "24/01/21 00:45:37 WARN Utils: Set SPARK_LOCAL_IP if you need to bind to another address\n",
      "Setting default log level to \"WARN\".\n",
      "To adjust logging level use sc.setLogLevel(newLevel). For SparkR, use setLogLevel(newLevel).\n",
      "24/01/21 00:45:38 WARN NativeCodeLoader: Unable to load native-hadoop library for your platform... using builtin-java classes where applicable\n",
      "INFO:DataIngestor:Leyendo datos desde /Users/adrianinfantes/Desktop/AIR/CollegeStudies/MachineLearningPath/Portfolio/BankProjects/FraudTransactionsDetection/data/Fraud.csv\n",
      "INFO:DataIngestor:Lectura del archivo completada                                \n"
     ]
    }
   ],
   "source": [
    "# Uso de la clase\n",
    "file_path = \"/Users/adrianinfantes/Desktop/AIR/CollegeStudies/MachineLearningPath/Portfolio/BankProjects/FraudTransactionsDetection/data/Fraud.csv\"\n",
    "data_ingestor = DataIngestor(file_path)\n",
    "bank_data = data_ingestor.read_data()"
   ],
   "metadata": {
    "collapsed": false,
    "ExecuteTime": {
     "end_time": "2024-01-20T23:45:50.938063Z",
     "start_time": "2024-01-20T23:45:34.997620Z"
    }
   },
   "id": "39d8fbc84b363b7e",
   "execution_count": 2
  },
  {
   "cell_type": "code",
   "outputs": [
    {
     "name": "stdout",
     "output_type": "stream",
     "text": [
      "+---------+-----------+-------+-------------+--------------+----------------+--------+---------+-------------+------+-------+\n",
      "|     Date|   nameOrig| amount|oldbalanceOrg|newbalanceOrig|            City|    type|Card Type|     Exp Type|Gender|isFraud|\n",
      "+---------+-----------+-------+-------------+--------------+----------------+--------+---------+-------------+------+-------+\n",
      "|26-May-13|C2011200430|  242.0|        302.0|          60.0|Ahmedabad, India|TRANSFER|     Gold|         Food|     F|      1|\n",
      "|26-Jul-12| C931301500| 7081.0|      46066.0|       38985.0|    Delhi, India|TRANSFER|     Gold|Entertainment|     M|      1|\n",
      "|12-Apr-12| C963642457|16355.0|      30355.0|       14000.0|  Kolkata, India|TRANSFER|   Silver|         Fuel|     F|      1|\n",
      "|28-Jan-12|C1439438217|20820.0|      39663.0|       18843.0|  Lucknow, India|TRANSFER|     Gold|         Food|     F|      1|\n",
      "|16-Apr-14| C892940485| 6071.0|      35586.0|       29515.0|Bengaluru, India|TRANSFER|     Gold|         Fuel|     M|      1|\n",
      "+---------+-----------+-------+-------------+--------------+----------------+--------+---------+-------------+------+-------+\n"
     ]
    }
   ],
   "source": [
    "bank_data.show(5)"
   ],
   "metadata": {
    "collapsed": false,
    "ExecuteTime": {
     "end_time": "2024-01-20T23:45:56.720588Z",
     "start_time": "2024-01-20T23:45:55.780511Z"
    }
   },
   "id": "f828b8852d831bf5",
   "execution_count": 3
  },
  {
   "cell_type": "code",
   "outputs": [],
   "source": [
    "import pyspark.sql.functions as F\n",
    "\n",
    "\n",
    "class DataExplorer:\n",
    "    def __init__(self, dataframe):\n",
    "        self.dataframe = dataframe\n",
    "        self.logger = logging.getLogger(self.__class__.__name__)\n",
    "\n",
    "    def show_info(self):\n",
    "        \"\"\"Muestra la información general del DataFrame.\"\"\"\n",
    "        try:\n",
    "            self.logger.info(\"Obteniendo información general del DataFrame\")\n",
    "            self.dataframe.printSchema()\n",
    "            self.logger.info(\"Información general obtenida con éxito\")\n",
    "        except Exception as e:\n",
    "            self.logger.error(f\"Error al obtener la información del DataFrame: {e}\")\n",
    "\n",
    "    def show_describe(self):\n",
    "        \"\"\"Muestra estadísticas descriptivas del DataFrame.\"\"\"\n",
    "        try:\n",
    "            self.logger.info(\"Obteniendo estadísticas descriptivas del DataFrame\")\n",
    "            self.dataframe.describe().show()\n",
    "            self.logger.info(\"Estadísticas descriptivas obtenidas con éxito\")\n",
    "        except Exception as e:\n",
    "            self.logger.error(f\"Error al obtener estadísticas descriptivas: {e}\")\n",
    "\n",
    "    def show_null_values(self):\n",
    "        \"\"\"Muestra el conteo de valores nulos en el DataFrame.\"\"\"\n",
    "        try:\n",
    "            self.logger.info(\"Calculando valores nulos en el DataFrame\")\n",
    "            null_values = self.dataframe.select([F.count(F.when(F.isnan(c) | F.col(c).isNull(), c)).alias(c) for c in self.dataframe.columns])\n",
    "            null_values.show()\n",
    "            self.logger.info(\"Valores nulos calculados con éxito\")\n",
    "        except Exception as e:\n",
    "            self.logger.error(f\"Error al calcular valores nulos: {e}\")"
   ],
   "metadata": {
    "collapsed": false,
    "ExecuteTime": {
     "end_time": "2024-01-20T23:46:00.662176Z",
     "start_time": "2024-01-20T23:46:00.650689Z"
    }
   },
   "id": "42bdca36508e69ba",
   "execution_count": 4
  },
  {
   "cell_type": "code",
   "outputs": [
    {
     "name": "stderr",
     "output_type": "stream",
     "text": [
      "INFO:DataExplorer:Obteniendo información general del DataFrame\n",
      "INFO:DataExplorer:Información general obtenida con éxito\n",
      "INFO:DataExplorer:Obteniendo estadísticas descriptivas del DataFrame\n"
     ]
    },
    {
     "name": "stdout",
     "output_type": "stream",
     "text": [
      "root\n",
      " |-- Date: string (nullable = true)\n",
      " |-- nameOrig: string (nullable = true)\n",
      " |-- amount: double (nullable = true)\n",
      " |-- oldbalanceOrg: double (nullable = true)\n",
      " |-- newbalanceOrig: double (nullable = true)\n",
      " |-- City: string (nullable = true)\n",
      " |-- type: string (nullable = true)\n",
      " |-- Card Type: string (nullable = true)\n",
      " |-- Exp Type: string (nullable = true)\n",
      " |-- Gender: string (nullable = true)\n",
      " |-- isFraud: integer (nullable = true)\n"
     ]
    },
    {
     "name": "stderr",
     "output_type": "stream",
     "text": [
      "24/01/21 00:46:02 WARN SparkStringUtils: Truncated the string representation of a plan since it was too large. This behavior can be adjusted by setting 'spark.sql.debug.maxToStringFields'.\n",
      "INFO:DataExplorer:Estadísticas descriptivas obtenidas con éxito                 \n",
      "INFO:DataExplorer:Calculando valores nulos en el DataFrame\n"
     ]
    },
    {
     "name": "stdout",
     "output_type": "stream",
     "text": [
      "+-------+---------+-----------+------------------+------------------+-----------------+----------------+--------+---------+--------+-------+-------------------+\n",
      "|summary|     Date|   nameOrig|            amount|     oldbalanceOrg|   newbalanceOrig|            City|    type|Card Type|Exp Type| Gender|            isFraud|\n",
      "+-------+---------+-----------+------------------+------------------+-----------------+----------------+--------+---------+--------+-------+-------------------+\n",
      "|  count|  1048574|    1048574|           1048574|           1048574|          1048574|         1048574| 1048574|  1048574| 1048574|1048574|            1048574|\n",
      "|   mean|     NULL|       NULL| 38027.67100427809| 880198.2874433202|842170.6164390347|            NULL|    NULL|     NULL|    NULL|   NULL|0.16764195946113483|\n",
      "| stddev|     NULL|       NULL|110516.83136312648|2969967.5040379316|2936373.401143199|            NULL|    NULL|     NULL|    NULL|   NULL| 0.3735482110296879|\n",
      "|    min|01-Apr-12|C1000001725|               0.0|               0.0|              0.0| Achalpur, India| CASH_IN|  Classic|   Bills|      F|                  0|\n",
      "|    max|31-Oct-14| C999999254|             1.0E7|            3.89E7|    3.889319101E7|Zunheboto, India|TRANSFER|   Silver|  Travel|      M|                  1|\n",
      "+-------+---------+-----------+------------------+------------------+-----------------+----------------+--------+---------+--------+-------+-------------------+\n"
     ]
    },
    {
     "name": "stderr",
     "output_type": "stream",
     "text": [
      "INFO:DataExplorer:Valores nulos calculados con éxito                            \n"
     ]
    },
    {
     "name": "stdout",
     "output_type": "stream",
     "text": [
      "+----+--------+------+-------------+--------------+----+----+---------+--------+------+-------+\n",
      "|Date|nameOrig|amount|oldbalanceOrg|newbalanceOrig|City|type|Card Type|Exp Type|Gender|isFraud|\n",
      "+----+--------+------+-------------+--------------+----+----+---------+--------+------+-------+\n",
      "|   0|       0|     0|            0|             0|   0|   0|        0|       0|     0|      0|\n",
      "+----+--------+------+-------------+--------------+----+----+---------+--------+------+-------+\n"
     ]
    }
   ],
   "source": [
    "# Uso de la clase\n",
    "data_explorer = DataExplorer(bank_data)\n",
    "data_explorer.show_info()\n",
    "data_explorer.show_describe()\n",
    "data_explorer.show_null_values()"
   ],
   "metadata": {
    "collapsed": false,
    "ExecuteTime": {
     "end_time": "2024-01-20T23:48:06.311157Z",
     "start_time": "2024-01-20T23:46:01.980833Z"
    }
   },
   "id": "dca87f8261915d5",
   "execution_count": 5
  },
  {
   "cell_type": "code",
   "outputs": [],
   "source": [
    "from pyspark.ml.feature import OneHotEncoder, StringIndexer, VectorAssembler, StandardScaler\n",
    "from pyspark.ml import Pipeline\n",
    "from pyspark.sql.functions import to_date, col\n",
    "\n",
    "class DataTransformer:\n",
    "    def __init__(self, dataframe):\n",
    "        self.dataframe = dataframe\n",
    "        self.logger = logging.getLogger(self.__class__.__name__)\n",
    "        self.to_drop = []  # Inicialización del atributo to_drop\n",
    "\n",
    "    def one_hot_encode(self, columns):\n",
    "        \"\"\"Aplica One-Hot Encoding a las columnas especificadas y elimina las columnas originales.\"\"\"\n",
    "        try:\n",
    "            self.logger.info(\"Aplicando One-Hot Encoding\")\n",
    "            stages = []  # Etapas para el pipeline\n",
    "\n",
    "            for col_name in columns:\n",
    "                string_indexer = StringIndexer(inputCol=col_name, outputCol=col_name + \"_indexed\")\n",
    "                encoder = OneHotEncoder(inputCols=[string_indexer.getOutputCol()], outputCols=[col_name + \"_encoded\"])\n",
    "                stages += [string_indexer, encoder]\n",
    "                self.to_drop.append(col_name)\n",
    "\n",
    "            pipeline = Pipeline(stages=stages)\n",
    "            model = pipeline.fit(self.dataframe)\n",
    "            self.dataframe = model.transform(self.dataframe)\n",
    "\n",
    "            self.dataframe = self.dataframe.drop(*self.to_drop)\n",
    "\n",
    "            self.logger.info(\"One-Hot Encoding aplicado con éxito\")\n",
    "            return self.dataframe\n",
    "        except Exception as e:\n",
    "            self.logger.error(f\"Error al aplicar One-Hot Encoding: {e}\")\n",
    "            raise\n",
    "\n",
    "    def convert_to_date(self, column):\n",
    "        \"\"\"Convierte una columna a tipo fecha.\"\"\"\n",
    "        try:\n",
    "            self.logger.info(f\"Convirtiendo la columna {column} a tipo fecha\")\n",
    "            # Usando el formato 'dd-MMM-yy' para la conversión\n",
    "            self.dataframe = self.dataframe.withColumn(column, to_date(col(column), 'dd-MMM-yy'))\n",
    "            self.logger.info(f\"Columna {column} convertida a tipo fecha con éxito\")\n",
    "            return self.dataframe\n",
    "        except Exception as e:\n",
    "            self.logger.error(f\"Error al convertir la columna {column} a tipo fecha: {e}\")\n",
    "            raise\n",
    "\n",
    "    def scale_features(self, input_cols):\n",
    "        \"\"\"Escala las características numéricas especificadas y elimina las columnas originales.\"\"\"\n",
    "        try:\n",
    "            self.logger.info(\"Aplicando escalado a las características numéricas\")\n",
    "            assembler = VectorAssembler(inputCols=input_cols, outputCol=\"features_to_scale\")\n",
    "            scaler = StandardScaler(inputCol=\"features_to_scale\", outputCol=\"scaled_features\")\n",
    "\n",
    "            self.dataframe = assembler.transform(self.dataframe)\n",
    "            scaler_model = scaler.fit(self.dataframe)\n",
    "            self.dataframe = scaler_model.transform(self.dataframe)\n",
    "\n",
    "            self.dataframe = self.dataframe.drop(\"features_to_scale\")\n",
    "\n",
    "            self.logger.info(\"Escalado de características completado con éxito\")\n",
    "            return self.dataframe\n",
    "        except Exception as e:\n",
    "            self.logger.error(f\"Error al aplicar el escalado de características: {e}\")\n",
    "            raise"
   ],
   "metadata": {
    "collapsed": false,
    "ExecuteTime": {
     "end_time": "2024-01-20T23:48:12.463284Z",
     "start_time": "2024-01-20T23:48:11.925961Z"
    }
   },
   "id": "774a3a09bfc45c23",
   "execution_count": 6
  },
  {
   "cell_type": "code",
   "outputs": [
    {
     "name": "stderr",
     "output_type": "stream",
     "text": [
      "INFO:DataTransformer:Aplicando One-Hot Encoding\n",
      "INFO:DataTransformer:One-Hot Encoding aplicado con éxito                        \n",
      "INFO:DataTransformer:Convirtiendo la columna Date a tipo fecha\n",
      "INFO:DataTransformer:Columna Date convertida a tipo fecha con éxito\n",
      "INFO:DataTransformer:Aplicando escalado a las características numéricas\n",
      "INFO:DataTransformer:Escalado de características completado con éxito           \n"
     ]
    }
   ],
   "source": [
    "# Uso de la clase\n",
    "data_transformer = DataTransformer(bank_data)\n",
    "\n",
    "# Aplicando One-Hot Encoding\n",
    "columns_to_encode = ['type', 'Card Type', 'Exp Type', 'Gender']\n",
    "transformed_data = data_transformer.one_hot_encode(columns_to_encode)\n",
    "\n",
    "# Convirtiendo la columna 'Date' a tipo fecha\n",
    "transformed_data = data_transformer.convert_to_date('Date')\n",
    "\n",
    "# Escalando características numéricas\n",
    "columns_to_scale = ['amount', 'oldbalanceOrg', 'newbalanceOrig']\n",
    "transformed_data = data_transformer.scale_features(columns_to_scale)"
   ],
   "metadata": {
    "collapsed": false,
    "ExecuteTime": {
     "end_time": "2024-01-20T23:48:25.015923Z",
     "start_time": "2024-01-20T23:48:13.149941Z"
    }
   },
   "id": "5d3c89b4107165f9",
   "execution_count": 7
  },
  {
   "cell_type": "code",
   "outputs": [
    {
     "name": "stdout",
     "output_type": "stream",
     "text": [
      "+----------+-----------+-------+-------------+--------------+----------------+-------+------------+-------------+-----------------+-----------------+----------------+----------------+--------------+--------------+--------------------+\n",
      "|      Date|   nameOrig| amount|oldbalanceOrg|newbalanceOrig|            City|isFraud|type_indexed| type_encoded|Card Type_indexed|Card Type_encoded|Exp Type_indexed|Exp Type_encoded|Gender_indexed|Gender_encoded|     scaled_features|\n",
      "+----------+-----------+-------+-------------+--------------+----------------+-------+------------+-------------+-----------------+-----------------+----------------+----------------+--------------+--------------+--------------------+\n",
      "|2013-05-26|C2011200430|  242.0|        302.0|          60.0|Ahmedabad, India|      1|         3.0|(4,[3],[1.0])|              3.0|    (5,[3],[1.0])|             0.0|   (8,[0],[1.0])|           0.0| (1,[0],[1.0])|[0.00218971171191...|\n",
      "|2012-07-26| C931301500| 7081.0|      46066.0|       38985.0|    Delhi, India|      1|         3.0|(4,[3],[1.0])|              3.0|    (5,[3],[1.0])|             3.0|   (8,[3],[1.0])|           1.0|     (1,[],[])|[0.06407168856238...|\n",
      "|2012-04-12| C963642457|16355.0|      30355.0|       14000.0|  Kolkata, India|      1|         3.0|(4,[3],[1.0])|              0.0|    (5,[0],[1.0])|             1.0|   (8,[1],[1.0])|           0.0| (1,[0],[1.0])|[0.14798650846459...|\n",
      "|2012-01-28|C1439438217|20820.0|      39663.0|       18843.0|  Lucknow, India|      1|         3.0|(4,[3],[1.0])|              3.0|    (5,[3],[1.0])|             0.0|   (8,[0],[1.0])|           0.0| (1,[0],[1.0])|[0.18838759438905...|\n",
      "|2014-04-16| C892940485| 6071.0|      35586.0|       29515.0|Bengaluru, India|      1|         3.0|(4,[3],[1.0])|              3.0|    (5,[3],[1.0])|             1.0|   (8,[1],[1.0])|           1.0|     (1,[],[])|[0.05493280910355...|\n",
      "+----------+-----------+-------+-------------+--------------+----------------+-------+------------+-------------+-----------------+-----------------+----------------+----------------+--------------+--------------+--------------------+\n"
     ]
    }
   ],
   "source": [
    "transformed_data.show(5)"
   ],
   "metadata": {
    "collapsed": false,
    "ExecuteTime": {
     "end_time": "2024-01-20T23:48:40.889560Z",
     "start_time": "2024-01-20T23:48:39.672170Z"
    }
   },
   "id": "d546e5051bb43664",
   "execution_count": 8
  },
  {
   "cell_type": "code",
   "outputs": [],
   "source": [
    "from pyspark.ml.feature import VectorAssembler\n",
    "from pyspark.sql import DataFrame\n",
    "from pyspark.ml import Pipeline\n",
    "from pyspark.ml.feature import StringIndexer\n",
    "from pyspark.sql.functions import col\n",
    "from pyspark.sql.types import StringType\n",
    "from pyspark.ml.linalg import Vectors\n",
    "from pyspark.ml.feature import VectorAssembler\n",
    "from pyspark.ml.feature import StandardScaler\n",
    "from pyspark.ml import Pipeline\n",
    "from pyspark.sql.functions import rand\n",
    "\n",
    "class Splitter:\n",
    "    def __init__(self, dataframe):\n",
    "        self.dataframe = dataframe\n",
    "        self.logger = logging.getLogger(self.__class__.__name__)\n",
    "\n",
    "    def select_features(self, feature_columns, label_column):\n",
    "        \"\"\"Selecciona las columnas de características y etiquetas para el modelo.\"\"\"\n",
    "        try:\n",
    "            self.logger.info(\"Seleccionando características y etiqueta\")\n",
    "            # Asegurar que la columna de etiqueta es de tipo String para la indexación\n",
    "            if isinstance(label_column, str):\n",
    "                self.dataframe = self.dataframe.withColumn(label_column, col(label_column).cast(StringType()))\n",
    "\n",
    "            # Usar VectorAssembler para combinar las columnas de características\n",
    "            assembler = VectorAssembler(inputCols=feature_columns, outputCol=\"features\")\n",
    "            self.dataframe = assembler.transform(self.dataframe)\n",
    "\n",
    "            # Indexar la columna de etiqueta\n",
    "            label_indexer = StringIndexer(inputCol=label_column, outputCol=\"label\")\n",
    "            self.dataframe = label_indexer.fit(self.dataframe).transform(self.dataframe)\n",
    "\n",
    "            self.logger.info(\"Características y etiqueta seleccionadas con éxito\")\n",
    "            return self.dataframe\n",
    "        except Exception as e:\n",
    "            self.logger.error(f\"Error al seleccionar características y etiqueta: {e}\")\n",
    "            raise\n",
    "\n",
    "    def split_data(self, train_ratio=0.7):\n",
    "        \"\"\"Divide los datos en conjuntos de entrenamiento y prueba.\"\"\"\n",
    "        try:\n",
    "            self.logger.info(\"Dividiendo los datos en conjuntos de entrenamiento y prueba\")\n",
    "            train_data, test_data = self.dataframe.randomSplit([train_ratio, 1 - train_ratio], seed=42)\n",
    "            self.logger.info(\"División de datos completada con éxito\")\n",
    "            return train_data, test_data\n",
    "        except Exception as e:\n",
    "            self.logger.error(f\"Error al dividir los datos: {e}\")\n",
    "            raise"
   ],
   "metadata": {
    "collapsed": false,
    "ExecuteTime": {
     "end_time": "2024-01-20T23:48:42.995731Z",
     "start_time": "2024-01-20T23:48:42.962248Z"
    }
   },
   "id": "1b752992173c1794",
   "execution_count": 9
  },
  {
   "cell_type": "code",
   "outputs": [
    {
     "name": "stderr",
     "output_type": "stream",
     "text": [
      "INFO:Splitter:Seleccionando características y etiqueta\n",
      "INFO:Splitter:Características y etiqueta seleccionadas con éxito                \n",
      "INFO:Splitter:Dividiendo los datos en conjuntos de entrenamiento y prueba\n",
      "INFO:Splitter:División de datos completada con éxito\n"
     ]
    }
   ],
   "source": [
    "# Uso de la clase Splitter\n",
    "\n",
    "# Asumiendo que 'transformed_data' es tu DataFrame procesado y listo para modelar\n",
    "model_prep = Splitter(transformed_data)\n",
    "\n",
    "# Selecciona las columnas que se usarán como características y etiqueta (ajusta según tus datos)\n",
    "feature_columns = ['type_indexed', 'type_encoded', 'Card Type_indexed', 'Card Type_encoded', \n",
    "                   'Exp Type_indexed', 'Exp Type_encoded', 'Gender_indexed', 'Gender_encoded', \n",
    "                   'scaled_features']\n",
    "label_column = 'isFraud'  # Asegúrate de que esta columna exista en tu DataFrame\n",
    "\n",
    "prepared_data = model_prep.select_features(feature_columns, label_column)\n",
    "\n",
    "# Divide los datos en conjuntos de entrenamiento y prueba\n",
    "train_data, test_data = model_prep.split_data(train_ratio=0.7)"
   ],
   "metadata": {
    "collapsed": false,
    "ExecuteTime": {
     "end_time": "2024-01-20T23:48:47.196655Z",
     "start_time": "2024-01-20T23:48:45.135294Z"
    }
   },
   "id": "eb194078924071ee",
   "execution_count": 10
  },
  {
   "cell_type": "code",
   "outputs": [],
   "source": [
    "import logging\n",
    "from pyspark.ml import Pipeline\n",
    "from pyspark.ml.tuning import ParamGridBuilder, CrossValidator\n",
    "from pyspark.ml.evaluation import BinaryClassificationEvaluator\n",
    "import mlflow\n",
    "import mlflow.spark\n",
    "\n",
    "class ModelTrainer:\n",
    "    def __init__(self, train_data, test_data, models):\n",
    "        \"\"\"\n",
    "        Inicializa la clase ModelTrainer.\n",
    "        :param train_data: DataFrame de Spark para entrenamiento.\n",
    "        :param test_data: DataFrame de Spark para pruebas.\n",
    "        :param models: Diccionario de modelos a entrenar con sus nombres como claves.\n",
    "        \"\"\"\n",
    "        self.train_data = train_data\n",
    "        self.test_data = test_data\n",
    "        self.models = models\n",
    "        self.logger = logging.getLogger(self.__class__.__name__)\n",
    "        self.best_models = {}\n",
    "\n",
    "    def fit_and_evaluate(self):\n",
    "        \"\"\"\n",
    "        Entrena y evalúa cada modelo en el diccionario de modelos.\n",
    "        \"\"\"\n",
    "        for name, model_info in self.models.items():\n",
    "            try:\n",
    "                self.logger.info(f\"Entrenando y evaluando modelo: {name}\")\n",
    "                model = model_info['model']\n",
    "                param_grid = model_info['param_grid']\n",
    "\n",
    "                # Iniciar un experimento MLflow\n",
    "                with mlflow.start_run(run_name=name) as run:\n",
    "                    # Crear Pipeline\n",
    "                    pipeline = Pipeline(stages=[model])\n",
    "\n",
    "                    # Crear Grid de Parámetros\n",
    "                    grid = ParamGridBuilder()\n",
    "                    for param, values in param_grid.items():\n",
    "                        grid = grid.addGrid(param, values)\n",
    "                    param_grid = grid.build()\n",
    "\n",
    "                    # Crear y ejecutar CrossValidator\n",
    "                    evaluator = BinaryClassificationEvaluator()\n",
    "                    crossval = CrossValidator(estimator=pipeline,\n",
    "                                              estimatorParamMaps=param_grid,\n",
    "                                              evaluator=evaluator,\n",
    "                                              numFolds=3)\n",
    "\n",
    "                    cv_model = crossval.fit(self.train_data)\n",
    "\n",
    "                    # Evaluar en el conjunto de prueba\n",
    "                    predictions = cv_model.transform(self.test_data)\n",
    "                    accuracy = evaluator.evaluate(predictions)\n",
    "\n",
    "                    self.logger.info(f\"Modelo {name} - AUC: {accuracy}\")\n",
    "                    self.best_models[name] = cv_model.bestModel\n",
    "\n",
    "                    # Registrar parámetros y métricas en MLflow\n",
    "                    mlflow.log_params(cv_model.bestModel.extractParamMap())\n",
    "                    mlflow.log_metric(\"auc\", accuracy)\n",
    "\n",
    "                    # Guardar el modelo\n",
    "                    mlflow.spark.log_model(cv_model.bestModel, f\"model_{name}\")\n",
    "\n",
    "            except Exception as e:\n",
    "                self.logger.error(f\"Error al entrenar y evaluar el modelo {name}: {e}\")\n",
    "\n",
    "    def get_best_models(self):\n",
    "        \"\"\"\n",
    "        Retorna los mejores modelos después del entrenamiento y evaluación.\n",
    "        \"\"\"\n",
    "        return self.best_models"
   ],
   "metadata": {
    "collapsed": false,
    "ExecuteTime": {
     "end_time": "2024-01-20T23:49:02.031416Z",
     "start_time": "2024-01-20T23:48:51.851152Z"
    }
   },
   "id": "e74f7c7f5d60bebf",
   "execution_count": 11
  },
  {
   "cell_type": "code",
   "outputs": [
    {
     "name": "stderr",
     "output_type": "stream",
     "text": [
      "INFO:ModelTrainer:Entrenando y evaluando modelo: RandomForest\n",
      "24/01/21 00:49:32 WARN MemoryStore: Not enough space to cache rdd_105_4 in memory! (computed 3.7 MiB so far)\n",
      "24/01/21 00:49:32 WARN MemoryStore: Not enough space to cache rdd_105_6 in memory! (computed 3.7 MiB so far)\n",
      "24/01/21 00:49:32 WARN MemoryStore: Not enough space to cache rdd_105_2 in memory! (computed 3.7 MiB so far)\n",
      "24/01/21 00:49:32 WARN MemoryStore: Not enough space to cache rdd_105_0 in memory! (computed 3.7 MiB so far)\n",
      "24/01/21 00:49:32 WARN MemoryStore: Not enough space to cache rdd_105_1 in memory! (computed 3.7 MiB so far)\n",
      "24/01/21 00:49:32 WARN MemoryStore: Not enough space to cache rdd_105_7 in memory! (computed 5.5 MiB so far)\n",
      "24/01/21 00:49:32 WARN MemoryStore: Not enough space to cache rdd_105_5 in memory! (computed 5.5 MiB so far)\n",
      "24/01/21 00:49:32 WARN BlockManager: Persisting block rdd_105_6 to disk instead.\n",
      "24/01/21 00:49:32 WARN MemoryStore: Not enough space to cache rdd_105_3 in memory! (computed 5.5 MiB so far)\n",
      "24/01/21 00:49:32 WARN BlockManager: Persisting block rdd_105_7 to disk instead.\n",
      "24/01/21 00:49:32 WARN BlockManager: Persisting block rdd_105_4 to disk instead.\n",
      "24/01/21 00:49:32 WARN BlockManager: Persisting block rdd_105_0 to disk instead.\n",
      "24/01/21 00:49:32 WARN BlockManager: Persisting block rdd_105_2 to disk instead.\n",
      "24/01/21 00:49:32 WARN BlockManager: Persisting block rdd_105_1 to disk instead.\n",
      "24/01/21 00:49:32 WARN BlockManager: Persisting block rdd_105_5 to disk instead.\n",
      "24/01/21 00:49:32 WARN BlockManager: Persisting block rdd_105_3 to disk instead.\n",
      "24/01/21 00:49:52 WARN MemoryStore: Not enough space to cache rdd_185_5 in memory! (computed 3.7 MiB so far)\n",
      "24/01/21 00:49:52 WARN MemoryStore: Not enough space to cache rdd_185_2 in memory! (computed 5.5 MiB so far)\n",
      "24/01/21 00:49:52 WARN BlockManager: Persisting block rdd_185_5 to disk instead.\n",
      "24/01/21 00:49:52 WARN MemoryStore: Not enough space to cache rdd_185_1 in memory! (computed 5.5 MiB so far)\n",
      "24/01/21 00:49:52 WARN MemoryStore: Not enough space to cache rdd_185_4 in memory! (computed 5.5 MiB so far)\n",
      "24/01/21 00:49:52 WARN MemoryStore: Not enough space to cache rdd_185_0 in memory! (computed 5.5 MiB so far)\n",
      "24/01/21 00:49:52 WARN BlockManager: Persisting block rdd_185_4 to disk instead.\n",
      "24/01/21 00:49:52 WARN BlockManager: Persisting block rdd_185_0 to disk instead.\n",
      "24/01/21 00:49:52 WARN BlockManager: Persisting block rdd_185_1 to disk instead.\n",
      "24/01/21 00:49:52 WARN BlockManager: Persisting block rdd_185_2 to disk instead.\n",
      "24/01/21 00:49:52 WARN MemoryStore: Not enough space to cache rdd_185_6 in memory! (computed 2.5 MiB so far)\n",
      "24/01/21 00:49:52 WARN MemoryStore: Not enough space to cache rdd_185_3 in memory! (computed 5.5 MiB so far)\n",
      "24/01/21 00:49:52 WARN BlockManager: Persisting block rdd_185_3 to disk instead.\n",
      "24/01/21 00:49:52 WARN BlockManager: Persisting block rdd_185_6 to disk instead.\n",
      "24/01/21 00:50:00 WARN MemoryStore: Not enough space to cache rdd_260_5 in memory! (computed 8.3 MiB so far)\n",
      "24/01/21 00:50:00 WARN MemoryStore: Not enough space to cache rdd_260_2 in memory! (computed 5.5 MiB so far)\n",
      "24/01/21 00:50:00 WARN MemoryStore: Not enough space to cache rdd_260_4 in memory! (computed 3.7 MiB so far)\n",
      "24/01/21 00:50:00 WARN MemoryStore: Not enough space to cache rdd_260_3 in memory! (computed 3.7 MiB so far)\n",
      "24/01/21 00:50:00 WARN MemoryStore: Not enough space to cache rdd_260_1 in memory! (computed 3.7 MiB so far)\n",
      "24/01/21 00:50:00 WARN MemoryStore: Not enough space to cache rdd_260_7 in memory! (computed 3.7 MiB so far)\n",
      "24/01/21 00:50:00 WARN MemoryStore: Not enough space to cache rdd_260_0 in memory! (computed 3.7 MiB so far)\n",
      "24/01/21 00:50:00 WARN BlockManager: Persisting block rdd_260_3 to disk instead.\n",
      "24/01/21 00:50:00 WARN BlockManager: Persisting block rdd_260_1 to disk instead.\n",
      "24/01/21 00:50:00 WARN BlockManager: Persisting block rdd_260_4 to disk instead.\n",
      "24/01/21 00:50:00 WARN BlockManager: Persisting block rdd_260_2 to disk instead.\n",
      "24/01/21 00:50:00 WARN BlockManager: Persisting block rdd_260_7 to disk instead.\n",
      "24/01/21 00:50:00 WARN BlockManager: Persisting block rdd_260_0 to disk instead.\n",
      "24/01/21 00:50:00 WARN BlockManager: Persisting block rdd_260_5 to disk instead.\n",
      "24/01/21 00:50:00 WARN MemoryStore: Not enough space to cache rdd_260_6 in memory! (computed 3.7 MiB so far)\n",
      "24/01/21 00:50:00 WARN BlockManager: Persisting block rdd_260_6 to disk instead.\n",
      "24/01/21 00:50:09 WARN MemoryStore: Not enough space to cache rdd_335_6 in memory! (computed 3.7 MiB so far)\n",
      "24/01/21 00:50:09 WARN BlockManager: Persisting block rdd_335_6 to disk instead.\n",
      "24/01/21 00:50:09 WARN MemoryStore: Not enough space to cache rdd_335_7 in memory! (computed 5.5 MiB so far)\n",
      "24/01/21 00:50:09 WARN MemoryStore: Not enough space to cache rdd_335_3 in memory! (computed 5.5 MiB so far)\n",
      "24/01/21 00:50:09 WARN BlockManager: Persisting block rdd_335_3 to disk instead.\n",
      "24/01/21 00:50:09 WARN MemoryStore: Not enough space to cache rdd_335_4 in memory! (computed 5.5 MiB so far)\n",
      "24/01/21 00:50:09 WARN BlockManager: Persisting block rdd_335_4 to disk instead.\n",
      "24/01/21 00:50:09 WARN MemoryStore: Not enough space to cache rdd_335_1 in memory! (computed 2.5 MiB so far)\n",
      "24/01/21 00:50:09 WARN BlockManager: Persisting block rdd_335_1 to disk instead.\n",
      "24/01/21 00:50:09 WARN MemoryStore: Not enough space to cache rdd_335_2 in memory! (computed 5.5 MiB so far)\n",
      "24/01/21 00:50:09 WARN BlockManager: Persisting block rdd_335_2 to disk instead.\n",
      "24/01/21 00:50:09 WARN MemoryStore: Not enough space to cache rdd_335_5 in memory! (computed 5.5 MiB so far)\n",
      "24/01/21 00:50:09 WARN BlockManager: Persisting block rdd_335_5 to disk instead.\n",
      "24/01/21 00:50:09 WARN BlockManager: Persisting block rdd_335_7 to disk instead.\n",
      "24/01/21 00:50:17 WARN MemoryStore: Not enough space to cache rdd_410_0 in memory! (computed 3.7 MiB so far)\n",
      "24/01/21 00:50:17 WARN MemoryStore: Not enough space to cache rdd_410_2 in memory! (computed 3.7 MiB so far)\n",
      "24/01/21 00:50:17 WARN MemoryStore: Not enough space to cache rdd_410_5 in memory! (computed 3.7 MiB so far)\n",
      "24/01/21 00:50:17 WARN MemoryStore: Not enough space to cache rdd_410_1 in memory! (computed 3.7 MiB so far)\n",
      "24/01/21 00:50:17 WARN MemoryStore: Not enough space to cache rdd_410_6 in memory! (computed 3.7 MiB so far)\n",
      "24/01/21 00:50:17 WARN BlockManager: Persisting block rdd_410_6 to disk instead.\n",
      "24/01/21 00:50:17 WARN BlockManager: Persisting block rdd_410_2 to disk instead.\n",
      "24/01/21 00:50:17 WARN BlockManager: Persisting block rdd_410_5 to disk instead.\n",
      "24/01/21 00:50:17 WARN BlockManager: Persisting block rdd_410_1 to disk instead.\n",
      "24/01/21 00:50:17 WARN BlockManager: Persisting block rdd_410_0 to disk instead.\n",
      "24/01/21 00:50:17 WARN MemoryStore: Not enough space to cache rdd_410_7 in memory! (computed 5.5 MiB so far)\n",
      "24/01/21 00:50:17 WARN MemoryStore: Not enough space to cache rdd_410_4 in memory! (computed 5.5 MiB so far)\n",
      "24/01/21 00:50:17 WARN BlockManager: Persisting block rdd_410_7 to disk instead.\n",
      "24/01/21 00:50:17 WARN BlockManager: Persisting block rdd_410_4 to disk instead.\n",
      "24/01/21 00:50:17 WARN MemoryStore: Not enough space to cache rdd_410_3 in memory! (computed 5.5 MiB so far)\n",
      "24/01/21 00:50:17 WARN BlockManager: Persisting block rdd_410_3 to disk instead.\n",
      "24/01/21 00:50:25 WARN MemoryStore: Not enough space to cache rdd_485_1 in memory! (computed 2.5 MiB so far)\n",
      "24/01/21 00:50:25 WARN MemoryStore: Not enough space to cache rdd_485_7 in memory! (computed 3.7 MiB so far)\n",
      "24/01/21 00:50:25 WARN MemoryStore: Not enough space to cache rdd_485_0 in memory! (computed 3.7 MiB so far)\n",
      "24/01/21 00:50:25 WARN MemoryStore: Not enough space to cache rdd_485_5 in memory! (computed 3.7 MiB so far)\n",
      "24/01/21 00:50:25 WARN BlockManager: Persisting block rdd_485_1 to disk instead.\n",
      "24/01/21 00:50:25 WARN BlockManager: Persisting block rdd_485_5 to disk instead.\n",
      "24/01/21 00:50:25 WARN BlockManager: Persisting block rdd_485_7 to disk instead.\n",
      "24/01/21 00:50:25 WARN BlockManager: Persisting block rdd_485_0 to disk instead.\n",
      "24/01/21 00:50:25 WARN MemoryStore: Not enough space to cache rdd_485_3 in memory! (computed 5.5 MiB so far)\n",
      "24/01/21 00:50:25 WARN BlockManager: Persisting block rdd_485_3 to disk instead.\n",
      "24/01/21 00:50:25 WARN MemoryStore: Not enough space to cache rdd_485_2 in memory! (computed 5.5 MiB so far)\n",
      "24/01/21 00:50:25 WARN BlockManager: Persisting block rdd_485_2 to disk instead.\n",
      "24/01/21 00:50:25 WARN MemoryStore: Not enough space to cache rdd_485_6 in memory! (computed 12.5 MiB so far)\n",
      "24/01/21 00:50:25 WARN BlockManager: Persisting block rdd_485_6 to disk instead.\n",
      "24/01/21 00:50:39 WARN MemoryStore: Not enough space to cache rdd_565_4 in memory! (computed 5.5 MiB so far)\n",
      "24/01/21 00:50:39 WARN MemoryStore: Not enough space to cache rdd_565_1 in memory! (computed 3.7 MiB so far)\n",
      "24/01/21 00:50:39 WARN MemoryStore: Not enough space to cache rdd_565_2 in memory! (computed 3.7 MiB so far)\n",
      "24/01/21 00:50:39 WARN BlockManager: Persisting block rdd_565_2 to disk instead.\n",
      "24/01/21 00:50:39 WARN BlockManager: Persisting block rdd_565_1 to disk instead.\n",
      "24/01/21 00:50:39 WARN BlockManager: Persisting block rdd_565_4 to disk instead.\n",
      "24/01/21 00:50:39 WARN MemoryStore: Not enough space to cache rdd_565_6 in memory! (computed 5.5 MiB so far)\n",
      "24/01/21 00:50:39 WARN BlockManager: Persisting block rdd_565_6 to disk instead.\n",
      "24/01/21 00:50:39 WARN MemoryStore: Not enough space to cache rdd_565_5 in memory! (computed 5.5 MiB so far)\n",
      "24/01/21 00:50:39 WARN MemoryStore: Not enough space to cache rdd_565_0 in memory! (computed 3.7 MiB so far)\n",
      "24/01/21 00:50:39 WARN MemoryStore: Not enough space to cache rdd_565_3 in memory! (computed 3.7 MiB so far)\n",
      "24/01/21 00:50:39 WARN MemoryStore: Not enough space to cache rdd_565_7 in memory! (computed 3.7 MiB so far)\n",
      "24/01/21 00:50:39 WARN BlockManager: Persisting block rdd_565_5 to disk instead.\n",
      "24/01/21 00:50:39 WARN BlockManager: Persisting block rdd_565_7 to disk instead.\n",
      "24/01/21 00:50:39 WARN BlockManager: Persisting block rdd_565_3 to disk instead.\n",
      "24/01/21 00:50:39 WARN BlockManager: Persisting block rdd_565_0 to disk instead.\n",
      "24/01/21 00:50:52 WARN MemoryStore: Not enough space to cache rdd_645_3 in memory! (computed 2.5 MiB so far)\n",
      "24/01/21 00:50:52 WARN BlockManager: Persisting block rdd_645_3 to disk instead.\n",
      "24/01/21 00:50:52 WARN MemoryStore: Not enough space to cache rdd_645_5 in memory! (computed 2.5 MiB so far)\n",
      "24/01/21 00:50:52 WARN BlockManager: Persisting block rdd_645_5 to disk instead.\n",
      "24/01/21 00:50:52 WARN MemoryStore: Not enough space to cache rdd_645_6 in memory! (computed 2.5 MiB so far)\n",
      "24/01/21 00:50:52 WARN BlockManager: Persisting block rdd_645_6 to disk instead.\n",
      "24/01/21 00:50:52 WARN MemoryStore: Not enough space to cache rdd_645_0 in memory! (computed 8.3 MiB so far)\n",
      "24/01/21 00:50:52 WARN BlockManager: Persisting block rdd_645_0 to disk instead.\n",
      "24/01/21 00:50:52 WARN MemoryStore: Not enough space to cache rdd_645_2 in memory! (computed 5.5 MiB so far)\n",
      "24/01/21 00:50:52 WARN BlockManager: Persisting block rdd_645_2 to disk instead.\n",
      "24/01/21 00:50:52 WARN MemoryStore: Not enough space to cache rdd_645_1 in memory! (computed 8.3 MiB so far)\n",
      "24/01/21 00:50:52 WARN MemoryStore: Not enough space to cache rdd_645_7 in memory! (computed 5.5 MiB so far)\n",
      "24/01/21 00:50:52 WARN BlockManager: Persisting block rdd_645_7 to disk instead.\n",
      "24/01/21 00:50:52 WARN MemoryStore: Not enough space to cache rdd_645_4 in memory! (computed 8.3 MiB so far)\n",
      "24/01/21 00:50:52 WARN BlockManager: Persisting block rdd_645_4 to disk instead.\n",
      "24/01/21 00:50:52 WARN BlockManager: Persisting block rdd_645_1 to disk instead.\n",
      "24/01/21 00:50:59 WARN MemoryStore: Not enough space to cache rdd_720_3 in memory! (computed 3.7 MiB so far)\n",
      "24/01/21 00:50:59 WARN BlockManager: Persisting block rdd_720_3 to disk instead.\n",
      "24/01/21 00:50:59 WARN MemoryStore: Not enough space to cache rdd_720_2 in memory! (computed 3.7 MiB so far)\n",
      "24/01/21 00:50:59 WARN MemoryStore: Not enough space to cache rdd_720_1 in memory! (computed 3.7 MiB so far)\n",
      "24/01/21 00:50:59 WARN BlockManager: Persisting block rdd_720_2 to disk instead.\n",
      "24/01/21 00:50:59 WARN BlockManager: Persisting block rdd_720_1 to disk instead.\n",
      "24/01/21 00:50:59 WARN MemoryStore: Not enough space to cache rdd_720_4 in memory! (computed 3.7 MiB so far)\n",
      "24/01/21 00:50:59 WARN BlockManager: Persisting block rdd_720_4 to disk instead.\n",
      "24/01/21 00:50:59 WARN MemoryStore: Not enough space to cache rdd_720_5 in memory! (computed 3.7 MiB so far)\n",
      "24/01/21 00:50:59 WARN BlockManager: Persisting block rdd_720_5 to disk instead.\n",
      "24/01/21 00:50:59 WARN MemoryStore: Not enough space to cache rdd_720_0 in memory! (computed 5.5 MiB so far)\n",
      "24/01/21 00:50:59 WARN BlockManager: Persisting block rdd_720_0 to disk instead.\n",
      "24/01/21 00:50:59 WARN MemoryStore: Not enough space to cache rdd_720_7 in memory! (computed 5.5 MiB so far)\n",
      "24/01/21 00:50:59 WARN BlockManager: Persisting block rdd_720_7 to disk instead.\n",
      "24/01/21 00:51:04 WARN MemoryStore: Not enough space to cache rdd_795_3 in memory! (computed 3.7 MiB so far)\n",
      "24/01/21 00:51:04 WARN BlockManager: Persisting block rdd_795_3 to disk instead.\n",
      "24/01/21 00:51:04 WARN MemoryStore: Not enough space to cache rdd_795_0 in memory! (computed 3.7 MiB so far)\n",
      "24/01/21 00:51:04 WARN BlockManager: Persisting block rdd_795_0 to disk instead.\n",
      "24/01/21 00:51:04 WARN MemoryStore: Not enough space to cache rdd_795_1 in memory! (computed 3.7 MiB so far)\n",
      "24/01/21 00:51:04 WARN BlockManager: Persisting block rdd_795_1 to disk instead.\n",
      "24/01/21 00:51:04 WARN MemoryStore: Not enough space to cache rdd_795_2 in memory! (computed 5.5 MiB so far)\n",
      "24/01/21 00:51:04 WARN MemoryStore: Not enough space to cache rdd_795_7 in memory! (computed 3.7 MiB so far)\n",
      "24/01/21 00:51:04 WARN BlockManager: Persisting block rdd_795_7 to disk instead.\n",
      "24/01/21 00:51:04 WARN BlockManager: Persisting block rdd_795_2 to disk instead.\n",
      "24/01/21 00:51:04 WARN MemoryStore: Not enough space to cache rdd_795_4 in memory! (computed 3.7 MiB so far)\n",
      "24/01/21 00:51:04 WARN BlockManager: Persisting block rdd_795_4 to disk instead.\n",
      "24/01/21 00:51:04 WARN MemoryStore: Not enough space to cache rdd_795_6 in memory! (computed 5.5 MiB so far)\n",
      "24/01/21 00:51:04 WARN BlockManager: Persisting block rdd_795_6 to disk instead.\n",
      "24/01/21 00:51:04 WARN MemoryStore: Not enough space to cache rdd_795_5 in memory! (computed 5.5 MiB so far)\n",
      "24/01/21 00:51:04 WARN BlockManager: Persisting block rdd_795_5 to disk instead.\n",
      "24/01/21 00:51:11 WARN MemoryStore: Not enough space to cache rdd_870_1 in memory! (computed 2.5 MiB so far)\n",
      "24/01/21 00:51:11 WARN BlockManager: Persisting block rdd_870_1 to disk instead.\n",
      "24/01/21 00:51:11 WARN MemoryStore: Not enough space to cache rdd_870_3 in memory! (computed 3.7 MiB so far)\n",
      "24/01/21 00:51:11 WARN BlockManager: Persisting block rdd_870_3 to disk instead.\n",
      "24/01/21 00:51:11 WARN MemoryStore: Not enough space to cache rdd_870_5 in memory! (computed 5.5 MiB so far)\n",
      "24/01/21 00:51:11 WARN BlockManager: Persisting block rdd_870_5 to disk instead.\n",
      "24/01/21 00:51:11 WARN MemoryStore: Not enough space to cache rdd_870_0 in memory! (computed 5.5 MiB so far)\n",
      "24/01/21 00:51:11 WARN BlockManager: Persisting block rdd_870_0 to disk instead.\n",
      "24/01/21 00:51:11 WARN MemoryStore: Not enough space to cache rdd_870_6 in memory! (computed 3.7 MiB so far)\n",
      "24/01/21 00:51:11 WARN BlockManager: Persisting block rdd_870_6 to disk instead.\n",
      "24/01/21 00:51:11 WARN MemoryStore: Not enough space to cache rdd_870_2 in memory! (computed 5.5 MiB so far)\n",
      "24/01/21 00:51:11 WARN BlockManager: Persisting block rdd_870_2 to disk instead.\n",
      "24/01/21 00:51:11 WARN MemoryStore: Not enough space to cache rdd_870_4 in memory! (computed 8.3 MiB so far)\n",
      "24/01/21 00:51:11 WARN BlockManager: Persisting block rdd_870_4 to disk instead.\n",
      "24/01/21 00:51:17 WARN MemoryStore: Not enough space to cache rdd_945_0 in memory! (computed 3.7 MiB so far)\n",
      "24/01/21 00:51:17 WARN MemoryStore: Not enough space to cache rdd_945_6 in memory! (computed 3.7 MiB so far)\n",
      "24/01/21 00:51:17 WARN BlockManager: Persisting block rdd_945_6 to disk instead.\n",
      "24/01/21 00:51:17 WARN MemoryStore: Not enough space to cache rdd_945_3 in memory! (computed 3.7 MiB so far)\n",
      "24/01/21 00:51:17 WARN MemoryStore: Not enough space to cache rdd_945_4 in memory! (computed 3.7 MiB so far)\n",
      "24/01/21 00:51:17 WARN BlockManager: Persisting block rdd_945_3 to disk instead.\n",
      "24/01/21 00:51:17 WARN BlockManager: Persisting block rdd_945_0 to disk instead.\n",
      "24/01/21 00:51:17 WARN BlockManager: Persisting block rdd_945_4 to disk instead.\n",
      "24/01/21 00:51:17 WARN MemoryStore: Not enough space to cache rdd_945_7 in memory! (computed 5.5 MiB so far)\n",
      "24/01/21 00:51:17 WARN MemoryStore: Not enough space to cache rdd_945_2 in memory! (computed 3.7 MiB so far)\n",
      "24/01/21 00:51:17 WARN MemoryStore: Not enough space to cache rdd_945_1 in memory! (computed 5.5 MiB so far)\n",
      "24/01/21 00:51:17 WARN MemoryStore: Not enough space to cache rdd_945_5 in memory! (computed 5.5 MiB so far)\n",
      "24/01/21 00:51:17 WARN BlockManager: Persisting block rdd_945_2 to disk instead.\n",
      "24/01/21 00:51:17 WARN BlockManager: Persisting block rdd_945_7 to disk instead.\n",
      "24/01/21 00:51:17 WARN BlockManager: Persisting block rdd_945_5 to disk instead.\n",
      "24/01/21 00:51:17 WARN BlockManager: Persisting block rdd_945_1 to disk instead.\n",
      "24/01/21 00:51:30 WARN MemoryStore: Not enough space to cache rdd_1025_4 in memory! (computed 5.5 MiB so far)\n",
      "24/01/21 00:51:30 WARN MemoryStore: Not enough space to cache rdd_1025_6 in memory! (computed 3.7 MiB so far)\n",
      "24/01/21 00:51:30 WARN MemoryStore: Not enough space to cache rdd_1025_2 in memory! (computed 3.7 MiB so far)\n",
      "24/01/21 00:51:30 WARN MemoryStore: Not enough space to cache rdd_1025_5 in memory! (computed 2.5 MiB so far)\n",
      "24/01/21 00:51:30 WARN MemoryStore: Not enough space to cache rdd_1025_3 in memory! (computed 5.5 MiB so far)\n",
      "24/01/21 00:51:30 WARN MemoryStore: Not enough space to cache rdd_1025_0 in memory! (computed 5.5 MiB so far)\n",
      "24/01/21 00:51:30 WARN MemoryStore: Not enough space to cache rdd_1025_1 in memory! (computed 3.7 MiB so far)\n",
      "24/01/21 00:51:30 WARN BlockManager: Persisting block rdd_1025_6 to disk instead.\n",
      "24/01/21 00:51:30 WARN BlockManager: Persisting block rdd_1025_4 to disk instead.\n",
      "24/01/21 00:51:30 WARN BlockManager: Persisting block rdd_1025_2 to disk instead.\n",
      "24/01/21 00:51:30 WARN BlockManager: Persisting block rdd_1025_3 to disk instead.\n",
      "24/01/21 00:51:30 WARN BlockManager: Persisting block rdd_1025_1 to disk instead.\n",
      "24/01/21 00:51:30 WARN BlockManager: Persisting block rdd_1025_5 to disk instead.\n",
      "24/01/21 00:51:30 WARN BlockManager: Persisting block rdd_1025_0 to disk instead.\n",
      "24/01/21 00:51:45 WARN MemoryStore: Not enough space to cache rdd_1105_5 in memory! (computed 3.7 MiB so far)\n",
      "24/01/21 00:51:45 WARN MemoryStore: Not enough space to cache rdd_1105_0 in memory! (computed 5.5 MiB so far)\n",
      "24/01/21 00:51:45 WARN MemoryStore: Not enough space to cache rdd_1105_4 in memory! (computed 3.7 MiB so far)\n",
      "24/01/21 00:51:45 WARN MemoryStore: Not enough space to cache rdd_1105_1 in memory! (computed 3.7 MiB so far)\n",
      "24/01/21 00:51:45 WARN MemoryStore: Not enough space to cache rdd_1105_3 in memory! (computed 5.5 MiB so far)\n",
      "24/01/21 00:51:45 WARN MemoryStore: Not enough space to cache rdd_1105_7 in memory! (computed 3.7 MiB so far)\n",
      "24/01/21 00:51:45 WARN BlockManager: Persisting block rdd_1105_4 to disk instead.\n",
      "24/01/21 00:51:45 WARN BlockManager: Persisting block rdd_1105_7 to disk instead.\n",
      "24/01/21 00:51:45 WARN BlockManager: Persisting block rdd_1105_1 to disk instead.\n",
      "24/01/21 00:51:45 WARN MemoryStore: Not enough space to cache rdd_1105_6 in memory! (computed 3.7 MiB so far)\n",
      "24/01/21 00:51:45 WARN BlockManager: Persisting block rdd_1105_3 to disk instead.\n",
      "24/01/21 00:51:45 WARN BlockManager: Persisting block rdd_1105_6 to disk instead.\n",
      "24/01/21 00:51:45 WARN BlockManager: Persisting block rdd_1105_0 to disk instead.\n",
      "24/01/21 00:51:45 WARN BlockManager: Persisting block rdd_1105_5 to disk instead.\n",
      "24/01/21 00:51:45 WARN MemoryStore: Not enough space to cache rdd_1105_2 in memory! (computed 5.5 MiB so far)\n",
      "24/01/21 00:51:45 WARN BlockManager: Persisting block rdd_1105_2 to disk instead.\n",
      "24/01/21 00:51:52 WARN MemoryStore: Not enough space to cache rdd_1180_6 in memory! (computed 3.7 MiB so far)\n",
      "24/01/21 00:51:52 WARN BlockManager: Persisting block rdd_1180_6 to disk instead.\n",
      "24/01/21 00:51:52 WARN MemoryStore: Not enough space to cache rdd_1180_3 in memory! (computed 5.5 MiB so far)\n",
      "24/01/21 00:51:52 WARN MemoryStore: Not enough space to cache rdd_1180_1 in memory! (computed 3.7 MiB so far)\n",
      "24/01/21 00:51:52 WARN BlockManager: Persisting block rdd_1180_1 to disk instead.\n",
      "24/01/21 00:51:52 WARN BlockManager: Persisting block rdd_1180_3 to disk instead.\n",
      "24/01/21 00:51:52 WARN MemoryStore: Not enough space to cache rdd_1180_0 in memory! (computed 3.7 MiB so far)\n",
      "24/01/21 00:51:52 WARN BlockManager: Persisting block rdd_1180_0 to disk instead.\n",
      "24/01/21 00:51:52 WARN MemoryStore: Not enough space to cache rdd_1180_7 in memory! (computed 3.7 MiB so far)\n",
      "24/01/21 00:51:52 WARN BlockManager: Persisting block rdd_1180_7 to disk instead.\n",
      "24/01/21 00:51:52 WARN MemoryStore: Not enough space to cache rdd_1180_5 in memory! (computed 3.7 MiB so far)\n",
      "24/01/21 00:51:52 WARN BlockManager: Persisting block rdd_1180_5 to disk instead.\n",
      "24/01/21 00:51:59 WARN MemoryStore: Not enough space to cache rdd_1255_7 in memory! (computed 3.7 MiB so far)\n",
      "24/01/21 00:51:59 WARN MemoryStore: Not enough space to cache rdd_1255_5 in memory! (computed 3.7 MiB so far)\n",
      "24/01/21 00:51:59 WARN MemoryStore: Not enough space to cache rdd_1255_3 in memory! (computed 5.5 MiB so far)\n",
      "24/01/21 00:51:59 WARN MemoryStore: Not enough space to cache rdd_1255_1 in memory! (computed 3.7 MiB so far)\n",
      "24/01/21 00:51:59 WARN BlockManager: Persisting block rdd_1255_7 to disk instead.\n",
      "24/01/21 00:51:59 WARN BlockManager: Persisting block rdd_1255_5 to disk instead.\n",
      "24/01/21 00:51:59 WARN BlockManager: Persisting block rdd_1255_3 to disk instead.\n",
      "24/01/21 00:51:59 WARN MemoryStore: Not enough space to cache rdd_1255_0 in memory! (computed 3.7 MiB so far)\n",
      "24/01/21 00:51:59 WARN BlockManager: Persisting block rdd_1255_1 to disk instead.\n",
      "24/01/21 00:51:59 WARN MemoryStore: Not enough space to cache rdd_1255_4 in memory! (computed 3.7 MiB so far)\n",
      "24/01/21 00:51:59 WARN BlockManager: Persisting block rdd_1255_4 to disk instead.\n",
      "24/01/21 00:51:59 WARN BlockManager: Persisting block rdd_1255_0 to disk instead.\n",
      "24/01/21 00:51:59 WARN MemoryStore: Not enough space to cache rdd_1255_6 in memory! (computed 5.5 MiB so far)\n",
      "24/01/21 00:51:59 WARN BlockManager: Persisting block rdd_1255_6 to disk instead.\n",
      "24/01/21 00:51:59 WARN MemoryStore: Not enough space to cache rdd_1255_2 in memory! (computed 5.5 MiB so far)\n",
      "24/01/21 00:51:59 WARN BlockManager: Persisting block rdd_1255_2 to disk instead.\n",
      "24/01/21 00:52:07 WARN MemoryStore: Not enough space to cache rdd_1330_1 in memory! (computed 3.7 MiB so far)\n",
      "24/01/21 00:52:07 WARN MemoryStore: Not enough space to cache rdd_1330_0 in memory! (computed 3.7 MiB so far)\n",
      "24/01/21 00:52:07 WARN MemoryStore: Not enough space to cache rdd_1330_7 in memory! (computed 5.5 MiB so far)\n",
      "24/01/21 00:52:07 WARN MemoryStore: Not enough space to cache rdd_1330_3 in memory! (computed 5.5 MiB so far)\n",
      "24/01/21 00:52:07 WARN BlockManager: Persisting block rdd_1330_1 to disk instead.\n",
      "24/01/21 00:52:07 WARN BlockManager: Persisting block rdd_1330_3 to disk instead.\n",
      "24/01/21 00:52:07 WARN BlockManager: Persisting block rdd_1330_7 to disk instead.\n",
      "24/01/21 00:52:07 WARN BlockManager: Persisting block rdd_1330_0 to disk instead.\n",
      "24/01/21 00:52:07 WARN MemoryStore: Not enough space to cache rdd_1330_5 in memory! (computed 3.7 MiB so far)\n",
      "24/01/21 00:52:07 WARN BlockManager: Persisting block rdd_1330_5 to disk instead.\n",
      "24/01/21 00:52:07 WARN MemoryStore: Not enough space to cache rdd_1330_2 in memory! (computed 5.5 MiB so far)\n",
      "24/01/21 00:52:07 WARN BlockManager: Persisting block rdd_1330_2 to disk instead.\n",
      "24/01/21 00:52:07 WARN MemoryStore: Not enough space to cache rdd_1330_4 in memory! (computed 2.5 MiB so far)\n",
      "24/01/21 00:52:07 WARN BlockManager: Persisting block rdd_1330_4 to disk instead.\n",
      "24/01/21 00:52:07 WARN MemoryStore: Not enough space to cache rdd_1330_6 in memory! (computed 5.5 MiB so far)\n",
      "24/01/21 00:52:07 WARN BlockManager: Persisting block rdd_1330_6 to disk instead.\n",
      "24/01/21 00:52:14 WARN MemoryStore: Not enough space to cache rdd_1405_4 in memory! (computed 3.7 MiB so far)\n",
      "24/01/21 00:52:14 WARN MemoryStore: Not enough space to cache rdd_1405_7 in memory! (computed 3.7 MiB so far)\n",
      "24/01/21 00:52:14 WARN MemoryStore: Not enough space to cache rdd_1405_2 in memory! (computed 3.7 MiB so far)\n",
      "24/01/21 00:52:14 WARN MemoryStore: Not enough space to cache rdd_1405_6 in memory! (computed 3.7 MiB so far)\n",
      "24/01/21 00:52:14 WARN BlockManager: Persisting block rdd_1405_7 to disk instead.\n",
      "24/01/21 00:52:14 WARN MemoryStore: Not enough space to cache rdd_1405_0 in memory! (computed 3.7 MiB so far)\n",
      "24/01/21 00:52:14 WARN BlockManager: Persisting block rdd_1405_0 to disk instead.\n",
      "24/01/21 00:52:14 WARN BlockManager: Persisting block rdd_1405_4 to disk instead.\n",
      "24/01/21 00:52:14 WARN BlockManager: Persisting block rdd_1405_6 to disk instead.\n",
      "24/01/21 00:52:14 WARN BlockManager: Persisting block rdd_1405_2 to disk instead.\n",
      "24/01/21 00:52:14 WARN MemoryStore: Not enough space to cache rdd_1405_1 in memory! (computed 5.5 MiB so far)\n",
      "24/01/21 00:52:14 WARN MemoryStore: Not enough space to cache rdd_1405_5 in memory! (computed 5.5 MiB so far)\n",
      "24/01/21 00:52:14 WARN BlockManager: Persisting block rdd_1405_5 to disk instead.\n",
      "24/01/21 00:52:14 WARN BlockManager: Persisting block rdd_1405_1 to disk instead.\n",
      "24/01/21 00:52:14 WARN MemoryStore: Not enough space to cache rdd_1405_3 in memory! (computed 5.5 MiB so far)\n",
      "24/01/21 00:52:14 WARN BlockManager: Persisting block rdd_1405_3 to disk instead.\n",
      "INFO:py4j.clientserver:Closing down clientserver connection                     \n",
      "INFO:py4j.clientserver:Closing down clientserver connection\n",
      "INFO:ModelTrainer:Modelo RandomForest - AUC: 0.8591299341159213                 \n",
      "/Users/adrianinfantes/Library/Caches/pypoetry/virtualenvs/fraudtransactionsdetection-oEGoWT1_-py3.11/lib/python3.11/site-packages/_distutils_hack/__init__.py:33: UserWarning: Setuptools is replacing distutils.\n",
      "  warnings.warn(\"Setuptools is replacing distutils.\")\n",
      "INFO:ModelTrainer:Entrenando y evaluando modelo: LogisticRegression\n",
      "24/01/21 00:53:26 WARN InstanceBuilder: Failed to load implementation from:dev.ludovic.netlib.blas.JNIBLAS\n",
      "INFO:py4j.clientserver:Closing down clientserver connection                     \n",
      "INFO:py4j.clientserver:Closing down clientserver connection\n",
      "INFO:ModelTrainer:Modelo LogisticRegression - AUC: 0.8273554239830981           \n"
     ]
    }
   ],
   "source": [
    "# Uso de la clase ModelTrainer\n",
    "\n",
    "from pyspark.ml.classification import RandomForestClassifier, LogisticRegression\n",
    "\n",
    "models = {\n",
    "    \"RandomForest\": {\n",
    "        \"model\": RandomForestClassifier(featuresCol='features', labelCol='label'),\n",
    "        \"param_grid\": {\n",
    "            RandomForestClassifier.numTrees: [10, 20, 30],\n",
    "            RandomForestClassifier.maxDepth: [5, 10]\n",
    "        }\n",
    "    },\n",
    "    \"LogisticRegression\": {\n",
    "        \"model\": LogisticRegression(featuresCol='features', labelCol='label'),\n",
    "        \"param_grid\": {\n",
    "            LogisticRegression.maxIter: [10, 20],\n",
    "            LogisticRegression.regParam: [0.01, 0.1]\n",
    "        }\n",
    "    }\n",
    "}\n",
    "\n",
    "trainer = ModelTrainer(train_data, test_data, models)\n",
    "trainer.fit_and_evaluate()\n",
    "best_models = trainer.get_best_models()"
   ],
   "metadata": {
    "collapsed": false,
    "ExecuteTime": {
     "end_time": "2024-01-20T23:57:16.019838Z",
     "start_time": "2024-01-20T23:49:15.954237Z"
    }
   },
   "id": "95ef0cb950571184",
   "execution_count": 12
  },
  {
   "cell_type": "code",
   "outputs": [],
   "source": [
    "# Guardar los mejores modelos:\n",
    "\n",
    "import mlflow\n",
    "import mlflow.spark\n",
    "\n",
    "for name, model in best_models.items():\n",
    "    mlflow.spark.save_model(model, f\"models/model_{name}\")"
   ],
   "metadata": {
    "collapsed": false,
    "ExecuteTime": {
     "end_time": "2024-01-20T23:59:48.047941Z",
     "start_time": "2024-01-20T23:59:06.687266Z"
    }
   },
   "id": "7fb7cc4624c931ac",
   "execution_count": 13
  },
  {
   "cell_type": "code",
   "outputs": [],
   "source": [
    "# Asumiendo que 'best_models' contiene tus modelos entrenados y 'test_data' es tu conjunto de datos de prueba\n",
    "\n",
    "# Ejemplo con el modelo Random Forest\n",
    "rf_model = best_models['RandomForest']\n",
    "\n",
    "# Realizar predicciones en el conjunto de prueba\n",
    "predictions = rf_model.transform(test_data)"
   ],
   "metadata": {
    "collapsed": false,
    "ExecuteTime": {
     "end_time": "2024-01-21T00:10:20.799769Z",
     "start_time": "2024-01-21T00:10:20.460959Z"
    }
   },
   "id": "b8a057eb90dd8d08",
   "execution_count": 16
  },
  {
   "cell_type": "code",
   "outputs": [],
   "source": [
    "from sklearn.metrics import confusion_matrix, roc_curve, auc\n",
    "import seaborn as sns\n",
    "import numpy as np\n",
    "import pandas as pd\n",
    "import matplotlib.pyplot as plt\n",
    "from pyspark.ml.evaluation import BinaryClassificationEvaluator, MulticlassClassificationEvaluator\n",
    "from pyspark.mllib.evaluation import BinaryClassificationMetrics, MulticlassMetrics\n",
    "\n",
    "\n",
    "\n",
    "class ModelEvaluator:\n",
    "    def __init__(self, predictions, labelCol=\"label\", predictionCol=\"prediction\", probabilityCol=\"probability\"):\n",
    "        self.predictions = predictions\n",
    "        self.labelCol = labelCol\n",
    "        self.predictionCol = predictionCol\n",
    "        self.probabilityCol = probabilityCol\n",
    "\n",
    "    def evaluate_accuracy(self):\n",
    "        evaluator = MulticlassClassificationEvaluator(labelCol=self.labelCol, predictionCol=self.predictionCol, metricName=\"accuracy\")\n",
    "        return evaluator.evaluate(self.predictions)\n",
    "\n",
    "    def evaluate_precision(self):\n",
    "        evaluator = MulticlassClassificationEvaluator(labelCol=self.labelCol, predictionCol=self.predictionCol, metricName=\"weightedPrecision\")\n",
    "        return evaluator.evaluate(self.predictions)\n",
    "\n",
    "    def evaluate_recall(self):\n",
    "        evaluator = MulticlassClassificationEvaluator(labelCol=self.labelCol, predictionCol=self.predictionCol, metricName=\"weightedRecall\")\n",
    "        return evaluator.evaluate(self.predictions)\n",
    "\n",
    "    def evaluate_f1_score(self):\n",
    "        evaluator = MulticlassClassificationEvaluator(labelCol=self.labelCol, predictionCol=self.predictionCol, metricName=\"f1\")\n",
    "        return evaluator.evaluate(self.predictions)\n",
    "\n",
    "    def evaluate_auc_roc(self):\n",
    "        evaluator = BinaryClassificationEvaluator(labelCol=self.labelCol, rawPredictionCol=self.probabilityCol, metricName=\"areaUnderROC\")\n",
    "        return evaluator.evaluate(self.predictions)\n",
    "\n",
    "    def plot_confusion_matrix(self):\n",
    "        y_true = self.predictions.select(self.labelCol).toPandas()\n",
    "        y_pred = self.predictions.select(self.predictionCol).toPandas()\n",
    "        cm = pd.crosstab(y_true[self.labelCol], y_pred[self.predictionCol], rownames=['Actual'], colnames=['Predicted'])\n",
    "\n",
    "        plt.figure(figsize=(10, 8))\n",
    "        sns.heatmap(cm, annot=True, fmt='g', cmap='Blues')\n",
    "        plt.xlabel('Predicted Labels')\n",
    "        plt.ylabel('True Labels')\n",
    "        plt.title('Confusion Matrix')\n",
    "        plt.show()\n"
   ],
   "metadata": {
    "collapsed": false,
    "ExecuteTime": {
     "end_time": "2024-01-21T00:44:15.163511Z",
     "start_time": "2024-01-21T00:44:15.134798Z"
    }
   },
   "id": "5c24485eb99a73ef",
   "execution_count": 49
  },
  {
   "cell_type": "code",
   "outputs": [
    {
     "name": "stderr",
     "output_type": "stream",
     "text": [
      "[Stage 2132:=================================================>      (7 + 1) / 8]\r"
     ]
    },
    {
     "name": "stdout",
     "output_type": "stream",
     "text": [
      "Accuracy: 0.8675473931387335\n"
     ]
    },
    {
     "name": "stderr",
     "output_type": "stream",
     "text": [
      "                                                                                \r"
     ]
    }
   ],
   "source": [
    "evaluator = ModelEvaluator(predictions)\n",
    "print(f\"Accuracy: {evaluator.evaluate_accuracy()}\")"
   ],
   "metadata": {
    "collapsed": false,
    "ExecuteTime": {
     "end_time": "2024-01-21T00:43:00.330171Z",
     "start_time": "2024-01-21T00:42:54.686590Z"
    }
   },
   "id": "f3efd46ab354520c",
   "execution_count": 44
  },
  {
   "cell_type": "code",
   "outputs": [
    {
     "name": "stderr",
     "output_type": "stream",
     "text": [
      "[Stage 2134:==============>                                         (2 + 6) / 8]\r"
     ]
    },
    {
     "name": "stdout",
     "output_type": "stream",
     "text": [
      "Accuracy: 0.8675473931387335\n"
     ]
    },
    {
     "name": "stderr",
     "output_type": "stream",
     "text": [
      "                                                                                \r"
     ]
    }
   ],
   "source": [
    "accuracy = evaluator.evaluate_accuracy()\n",
    "print(f\"Accuracy: {accuracy}\")"
   ],
   "metadata": {
    "collapsed": false,
    "ExecuteTime": {
     "end_time": "2024-01-21T00:43:07.908496Z",
     "start_time": "2024-01-21T00:43:03.812427Z"
    }
   },
   "id": "78792ec0896cc7c6",
   "execution_count": 45
  },
  {
   "cell_type": "code",
   "outputs": [
    {
     "name": "stderr",
     "output_type": "stream",
     "text": [
      "[Stage 2136:===================================>                    (5 + 3) / 8]\r"
     ]
    },
    {
     "name": "stdout",
     "output_type": "stream",
     "text": [
      "F1 Score: 0.8457754889527895\n"
     ]
    },
    {
     "name": "stderr",
     "output_type": "stream",
     "text": [
      "                                                                                \r"
     ]
    }
   ],
   "source": [
    "f1_score = evaluator.evaluate_f1_score()\n",
    "print(f\"F1 Score: {f1_score}\")"
   ],
   "metadata": {
    "collapsed": false,
    "ExecuteTime": {
     "end_time": "2024-01-21T00:43:15.421690Z",
     "start_time": "2024-01-21T00:43:11.376958Z"
    }
   },
   "id": "c3b6faf4bae54bcb",
   "execution_count": 46
  },
  {
   "cell_type": "code",
   "outputs": [
    {
     "name": "stderr",
     "output_type": "stream",
     "text": [
      "                                                                                \r"
     ]
    },
    {
     "name": "stdout",
     "output_type": "stream",
     "text": [
      "AUC ROC: 0.8591299341159213\n"
     ]
    }
   ],
   "source": [
    "auc_roc = evaluator.evaluate_auc_roc()\n",
    "print(f\"AUC ROC: {auc_roc}\")"
   ],
   "metadata": {
    "collapsed": false,
    "ExecuteTime": {
     "end_time": "2024-01-21T00:43:48.103192Z",
     "start_time": "2024-01-21T00:43:42.406880Z"
    }
   },
   "id": "87e9ca2fd903572b",
   "execution_count": 47
  },
  {
   "cell_type": "code",
   "outputs": [
    {
     "name": "stderr",
     "output_type": "stream",
     "text": [
      "Exception ignored in: <function JavaModelWrapper.__del__ at 0x176cc5080>        \n",
      "Traceback (most recent call last):\n",
      "  File \"/Users/adrianinfantes/Library/Caches/pypoetry/virtualenvs/fraudtransactionsdetection-oEGoWT1_-py3.11/lib/python3.11/site-packages/pyspark/mllib/common.py\", line 152, in __del__\n",
      "    assert self._sc._gateway is not None\n",
      "           ^^^^^^^^\n",
      "AttributeError: 'BinaryClassificationMetrics' object has no attribute '_sc'\n",
      "                                                                                \r"
     ]
    },
    {
     "data": {
      "text/plain": "<Figure size 1000x800 with 2 Axes>",
      "image/png": "[encoded data removed]"
     },
     "metadata": {},
     "output_type": "display_data"
    }
   ],
   "source": [
    "evaluator.plot_confusion_matrix()"
   ],
   "metadata": {
    "collapsed": false,
    "ExecuteTime": {
     "end_time": "2024-01-21T00:44:29.470773Z",
     "start_time": "2024-01-21T00:44:19.817514Z"
    }
   },
   "id": "da2a13d988358b07",
   "execution_count": 50
  },
  {
   "cell_type": "code",
   "outputs": [],
   "source": [],
   "metadata": {
    "collapsed": false
   },
   "id": "534834d5b8799059"
  }
 ],
 "metadata": {
  "kernelspec": {
   "display_name": "Python 3",
   "language": "python",
   "name": "python3"
  },
  "language_info": {
   "codemirror_mode": {
    "name": "ipython",
    "version": 2
   },
   "file_extension": ".py",
   "mimetype": "text/x-python",
   "name": "python",
   "nbconvert_exporter": "python",
   "pygments_lexer": "ipython2",
   "version": "2.7.6"
  }
 },
 "nbformat": 4,
 "nbformat_minor": 5
}
